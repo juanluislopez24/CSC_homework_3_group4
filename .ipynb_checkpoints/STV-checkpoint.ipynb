{
 "cells": [
  {
   "cell_type": "code",
   "execution_count": 376,
   "id": "6db3a70a-1d4e-41c8-80de-7286c0f9f92d",
   "metadata": {},
   "outputs": [],
   "source": [
    "import re\n",
    "import numpy as np\n",
    "import pandas as pd\n",
    "from collections import defaultdict\n",
    "  \n"
   ]
  },
  {
   "cell_type": "code",
   "execution_count": 377,
   "id": "fdc67b2e-3bbe-4729-adf9-6702d788cea8",
   "metadata": {},
   "outputs": [],
   "source": [
    "f = open(\"voters.txt\")\n",
    "txt = f.read()\n",
    "# txt = re.sub(r'[{}]', '', txt)"
   ]
  },
  {
   "cell_type": "code",
   "execution_count": 378,
   "id": "6ff41c88-8505-4e6b-b872-5a3f7b346593",
   "metadata": {},
   "outputs": [],
   "source": [
    "preferences = [val.split(': ')[-1] for val in txt.split('\\n')]\n",
    "counts = [float(val.split(': ')[0]) for val in txt.split('\\n')]"
   ]
  },
  {
   "cell_type": "code",
   "execution_count": 379,
   "id": "17523417-7915-411f-adc1-912f417accf6",
   "metadata": {},
   "outputs": [
    {
     "name": "stdout",
     "output_type": "stream",
     "text": [
      "3,4,5,6,7,8,9,{1,10},2\n",
      "2,4,5,7,{9,10},3,6,1,8\n",
      "1,2,6,5,3,7,8,9,{10,11}\n",
      "4,2,5,3,1,6,7,8,{9,10}\n",
      "9,3,2,5,{1,4},6,7,8\n",
      "2,8,3,4,{1,5},6,9,7\n",
      "3,5,1,{7,9},8,6,4,2\n",
      "3,1,2,5,6,8,{9,10}\n",
      "2,4,1,{5,8},6,9\n"
     ]
    }
   ],
   "source": [
    "preferences_to_counts = {preference: count for preference, count in zip(preferences, counts)}\n",
    "preferences_to_counts = defaultdict(int, preferences_to_counts)\n",
    "\n",
    "\n",
    "new_preferece_counts = []\n",
    "preferences_with_ties = []\n",
    "for preference, count in zip(preferences, counts):\n",
    "    ties = re.findall(\"{\\d+,\\d+}\", preference)\n",
    "    n_ties = len(ties)\n",
    "    if(n_ties>0):\n",
    "        print(preference)\n",
    "        preferences_with_ties.append(preference)\n",
    "#       we expect only one tie for each preference of alternatives\n",
    "        tie = re.sub(\"[{}]\", \"\", ties[0]).split(',')\n",
    "        for t in tie:\n",
    "            new_preferece_counts.append((re.sub(re.escape(ties[0]), t, preference), count/2))\n",
    "            \n",
    "for preference, extra_counts in new_preferece_counts:\n",
    "    preferences_to_counts[preference] += extra_counts\n",
    "for preference in preferences_with_ties:\n",
    "    del preferences_to_counts[preference]\n",
    "    "
   ]
  },
  {
   "cell_type": "code",
   "execution_count": 380,
   "id": "30e0b9de-dd51-4262-afb8-c707522fde6b",
   "metadata": {},
   "outputs": [
    {
     "data": {
      "text/plain": [
       "['1', '2', '3', '4', '5', '6', '7', '8', '9', '10', '11']"
      ]
     },
     "execution_count": 380,
     "metadata": {},
     "output_type": "execute_result"
    }
   ],
   "source": [
    "alternatives = [str(i) for i in range(1, 12)]\n",
    "alternatives"
   ]
  },
  {
   "cell_type": "code",
   "execution_count": 381,
   "id": "146ba520-4c2c-41c5-882a-e2120c6c9ee9",
   "metadata": {},
   "outputs": [],
   "source": [
    "preferences = [preference.split(',') for preference in list(preferences_to_counts.keys())]\n",
    "counts = list(preferences_to_counts.values())"
   ]
  },
  {
   "cell_type": "code",
   "execution_count": 382,
   "id": "e731af6c-212a-426e-ad7d-6fa40208c054",
   "metadata": {},
   "outputs": [],
   "source": [
    "df =  pd.DataFrame([counts, preferences]).T\n",
    "df.rename(columns={0: 'n', 1: 'preference'}, inplace=True)"
   ]
  },
  {
   "cell_type": "code",
   "execution_count": 383,
   "id": "20db1221-d664-45f8-a45f-8f695c28b336",
   "metadata": {},
   "outputs": [
    {
     "data": {
      "text/html": [
       "<div>\n",
       "<style scoped>\n",
       "    .dataframe tbody tr th:only-of-type {\n",
       "        vertical-align: middle;\n",
       "    }\n",
       "\n",
       "    .dataframe tbody tr th {\n",
       "        vertical-align: top;\n",
       "    }\n",
       "\n",
       "    .dataframe thead th {\n",
       "        text-align: right;\n",
       "    }\n",
       "</style>\n",
       "<table border=\"1\" class=\"dataframe\">\n",
       "  <thead>\n",
       "    <tr style=\"text-align: right;\">\n",
       "      <th></th>\n",
       "      <th>n</th>\n",
       "      <th>preference</th>\n",
       "    </tr>\n",
       "  </thead>\n",
       "  <tbody>\n",
       "    <tr>\n",
       "      <th>1749</th>\n",
       "      <td>1.0</td>\n",
       "      <td>[3, 6]</td>\n",
       "    </tr>\n",
       "    <tr>\n",
       "      <th>1750</th>\n",
       "      <td>1.0</td>\n",
       "      <td>[9]</td>\n",
       "    </tr>\n",
       "    <tr>\n",
       "      <th>1751</th>\n",
       "      <td>0.5</td>\n",
       "      <td>[3, 4, 5, 6, 7, 8, 9, 1, 2]</td>\n",
       "    </tr>\n",
       "    <tr>\n",
       "      <th>1752</th>\n",
       "      <td>0.5</td>\n",
       "      <td>[3, 4, 5, 6, 7, 8, 9, 10, 2]</td>\n",
       "    </tr>\n",
       "    <tr>\n",
       "      <th>1753</th>\n",
       "      <td>0.5</td>\n",
       "      <td>[2, 4, 5, 7, 9, 3, 6, 1, 8]</td>\n",
       "    </tr>\n",
       "    <tr>\n",
       "      <th>1754</th>\n",
       "      <td>0.5</td>\n",
       "      <td>[2, 4, 5, 7, 10, 3, 6, 1, 8]</td>\n",
       "    </tr>\n",
       "    <tr>\n",
       "      <th>1755</th>\n",
       "      <td>0.5</td>\n",
       "      <td>[1, 2, 6, 5, 3, 7, 8, 9, 10]</td>\n",
       "    </tr>\n",
       "    <tr>\n",
       "      <th>1756</th>\n",
       "      <td>0.5</td>\n",
       "      <td>[1, 2, 6, 5, 3, 7, 8, 9, 11]</td>\n",
       "    </tr>\n",
       "    <tr>\n",
       "      <th>1757</th>\n",
       "      <td>0.5</td>\n",
       "      <td>[4, 2, 5, 3, 1, 6, 7, 8, 9]</td>\n",
       "    </tr>\n",
       "    <tr>\n",
       "      <th>1758</th>\n",
       "      <td>0.5</td>\n",
       "      <td>[4, 2, 5, 3, 1, 6, 7, 8, 10]</td>\n",
       "    </tr>\n",
       "    <tr>\n",
       "      <th>1759</th>\n",
       "      <td>0.5</td>\n",
       "      <td>[9, 3, 2, 5, 1, 6, 7, 8]</td>\n",
       "    </tr>\n",
       "    <tr>\n",
       "      <th>1760</th>\n",
       "      <td>0.5</td>\n",
       "      <td>[9, 3, 2, 5, 4, 6, 7, 8]</td>\n",
       "    </tr>\n",
       "    <tr>\n",
       "      <th>1761</th>\n",
       "      <td>0.5</td>\n",
       "      <td>[2, 8, 3, 4, 1, 6, 9, 7]</td>\n",
       "    </tr>\n",
       "    <tr>\n",
       "      <th>1762</th>\n",
       "      <td>0.5</td>\n",
       "      <td>[2, 8, 3, 4, 5, 6, 9, 7]</td>\n",
       "    </tr>\n",
       "    <tr>\n",
       "      <th>1763</th>\n",
       "      <td>0.5</td>\n",
       "      <td>[3, 5, 1, 7, 8, 6, 4, 2]</td>\n",
       "    </tr>\n",
       "    <tr>\n",
       "      <th>1764</th>\n",
       "      <td>0.5</td>\n",
       "      <td>[3, 5, 1, 9, 8, 6, 4, 2]</td>\n",
       "    </tr>\n",
       "    <tr>\n",
       "      <th>1765</th>\n",
       "      <td>0.5</td>\n",
       "      <td>[3, 1, 2, 5, 6, 8, 9]</td>\n",
       "    </tr>\n",
       "    <tr>\n",
       "      <th>1766</th>\n",
       "      <td>0.5</td>\n",
       "      <td>[3, 1, 2, 5, 6, 8, 10]</td>\n",
       "    </tr>\n",
       "    <tr>\n",
       "      <th>1767</th>\n",
       "      <td>0.5</td>\n",
       "      <td>[2, 4, 1, 5, 6, 9]</td>\n",
       "    </tr>\n",
       "    <tr>\n",
       "      <th>1768</th>\n",
       "      <td>0.5</td>\n",
       "      <td>[2, 4, 1, 8, 6, 9]</td>\n",
       "    </tr>\n",
       "  </tbody>\n",
       "</table>\n",
       "</div>"
      ],
      "text/plain": [
       "        n                    preference\n",
       "1749  1.0                        [3, 6]\n",
       "1750  1.0                           [9]\n",
       "1751  0.5   [3, 4, 5, 6, 7, 8, 9, 1, 2]\n",
       "1752  0.5  [3, 4, 5, 6, 7, 8, 9, 10, 2]\n",
       "1753  0.5   [2, 4, 5, 7, 9, 3, 6, 1, 8]\n",
       "1754  0.5  [2, 4, 5, 7, 10, 3, 6, 1, 8]\n",
       "1755  0.5  [1, 2, 6, 5, 3, 7, 8, 9, 10]\n",
       "1756  0.5  [1, 2, 6, 5, 3, 7, 8, 9, 11]\n",
       "1757  0.5   [4, 2, 5, 3, 1, 6, 7, 8, 9]\n",
       "1758  0.5  [4, 2, 5, 3, 1, 6, 7, 8, 10]\n",
       "1759  0.5      [9, 3, 2, 5, 1, 6, 7, 8]\n",
       "1760  0.5      [9, 3, 2, 5, 4, 6, 7, 8]\n",
       "1761  0.5      [2, 8, 3, 4, 1, 6, 9, 7]\n",
       "1762  0.5      [2, 8, 3, 4, 5, 6, 9, 7]\n",
       "1763  0.5      [3, 5, 1, 7, 8, 6, 4, 2]\n",
       "1764  0.5      [3, 5, 1, 9, 8, 6, 4, 2]\n",
       "1765  0.5         [3, 1, 2, 5, 6, 8, 9]\n",
       "1766  0.5        [3, 1, 2, 5, 6, 8, 10]\n",
       "1767  0.5            [2, 4, 1, 5, 6, 9]\n",
       "1768  0.5            [2, 4, 1, 8, 6, 9]"
      ]
     },
     "execution_count": 383,
     "metadata": {},
     "output_type": "execute_result"
    }
   ],
   "source": [
    "# has +9 new preferences due to the ties introduced\n",
    "df.tail(20)"
   ]
  },
  {
   "cell_type": "code",
   "execution_count": 384,
   "id": "cc48fd0c-0bc2-4734-a3aa-f4b2cd6a3b72",
   "metadata": {},
   "outputs": [
    {
     "data": {
      "text/plain": [
       "2477.0"
      ]
     },
     "execution_count": 384,
     "metadata": {},
     "output_type": "execute_result"
    }
   ],
   "source": [
    "# number of total voters\n",
    "df.n.sum()"
   ]
  },
  {
   "cell_type": "code",
   "execution_count": 385,
   "id": "f0591503-c6b3-41c8-aed4-145ff1aacf45",
   "metadata": {},
   "outputs": [],
   "source": [
    "def get_p_scores(df, alternatives):\n",
    "    scores = {}\n",
    "    for a in alternatives:\n",
    "        scores[a] = 0\n",
    "    for index, row in df.iterrows():\n",
    "        if(len(row.preference) > 0):\n",
    "            scores[row.preference[0]] += int(row.n)\n",
    "    return scores\n",
    "\n",
    "def get_score_alternatives(scores, mode):\n",
    "    mode_score = min(scores, key=scores.get)\n",
    "    if(mode == 'max'):\n",
    "        mode_score = max(scores, key=scores.get)\n",
    "    mode_score_alternatives = [i for i, val in scores.items() if val == scores[mode_score]]\n",
    "    return mode_score_alternatives\n",
    "\n",
    "def remove_alternatives(df, alternatives):\n",
    "    df.preference = df.apply(lambda x: list(set(x.preference).difference(set(alternatives))), axis=1)\n",
    "    return df\n",
    "\n",
    "def STV(df, alternatives):\n",
    "    votes_df = df.copy()\n",
    "    scores = get_p_scores(votes_df, alternatives)\n",
    "    while(len(alternatives)>0):\n",
    "        scores = get_p_scores(votes_df, alternatives)\n",
    "        print(scores)\n",
    "        min_p_alternatives = get_score_alternatives(scores, 'min')\n",
    "        alternatives = list(set(alternatives).difference(set(min_p_alternatives)))\n",
    "        if(len(alternatives)==0):\n",
    "            print(\"Reached a decision\")\n",
    "            break\n",
    "        print('removing alternatives', min_p_alternatives)\n",
    "        df = remove_alternatives(votes_df, min_p_alternatives)\n",
    "    return list(scores.keys())"
   ]
  },
  {
   "cell_type": "code",
   "execution_count": 386,
   "id": "83744cc4-1bed-48c6-ba0a-901ff4b99e45",
   "metadata": {},
   "outputs": [
    {
     "name": "stdout",
     "output_type": "stream",
     "text": [
      "{'1': 246, '2': 453, '3': 412, '4': 384, '5': 352, '6': 27, '7': 94, '8': 463, '9': 37, '10': 0, '11': 0}\n",
      "removing alternatives ['10', '11']\n",
      "{'7': 1136, '8': 198, '3': 333, '1': 54, '5': 128, '2': 491, '6': 54, '9': 14, '4': 60}\n",
      "removing alternatives ['9']\n",
      "{'7': 1129, '8': 174, '3': 354, '1': 71, '5': 123, '2': 518, '6': 60, '4': 38}\n",
      "removing alternatives ['4']\n",
      "{'7': 1067, '8': 120, '3': 372, '1': 81, '5': 119, '2': 612, '6': 70}\n",
      "removing alternatives ['6']\n",
      "{'7': 1048, '8': 104, '3': 442, '1': 72, '5': 127, '2': 638}\n",
      "removing alternatives ['1']\n",
      "{'7': 916, '8': 105, '3': 509, '5': 127, '2': 754}\n",
      "removing alternatives ['8']\n",
      "{'2': 1531, '3': 509, '7': 139, '5': 127}\n",
      "removing alternatives ['5']\n",
      "{'2': 1531, '3': 509, '7': 139}\n",
      "removing alternatives ['7']\n",
      "{'2': 1531, '3': 529}\n",
      "removing alternatives ['3']\n",
      "{'2': 1531}\n",
      "Reached a decision\n"
     ]
    },
    {
     "data": {
      "text/plain": [
       "['2']"
      ]
     },
     "execution_count": 386,
     "metadata": {},
     "output_type": "execute_result"
    }
   ],
   "source": [
    "STV(df, alternatives)"
   ]
  },
  {
   "cell_type": "code",
   "execution_count": null,
   "id": "efda8a0e-8d1d-4955-90f4-65fffce74631",
   "metadata": {},
   "outputs": [],
   "source": []
  },
  {
   "cell_type": "code",
   "execution_count": null,
   "id": "264aeba3-11e9-4376-ad3e-f8e476332e53",
   "metadata": {},
   "outputs": [],
   "source": []
  },
  {
   "cell_type": "code",
   "execution_count": null,
   "id": "3a4c2f1f-fc89-43ef-ba2f-2d5d0b5a3142",
   "metadata": {},
   "outputs": [],
   "source": []
  },
  {
   "cell_type": "code",
   "execution_count": null,
   "id": "95fc7e97-d328-40ec-aa73-976c592d623e",
   "metadata": {},
   "outputs": [],
   "source": []
  }
 ],
 "metadata": {
  "kernelspec": {
   "display_name": "Python 3 (ipykernel)",
   "language": "python",
   "name": "python3"
  },
  "language_info": {
   "codemirror_mode": {
    "name": "ipython",
    "version": 3
   },
   "file_extension": ".py",
   "mimetype": "text/x-python",
   "name": "python",
   "nbconvert_exporter": "python",
   "pygments_lexer": "ipython3",
   "version": "3.9.15"
  }
 },
 "nbformat": 4,
 "nbformat_minor": 5
}
