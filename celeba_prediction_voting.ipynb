{
 "cells": [
  {
   "cell_type": "code",
   "execution_count": 1,
   "id": "0b3796f0-644d-497e-9a5c-255ca984d072",
   "metadata": {
    "tags": []
   },
   "outputs": [],
   "source": [
    "import torch\n",
    "from torch import nn\n",
    "from torch.utils.data import DataLoader\n",
    "from torchvision import datasets\n",
    "import torchvision\n",
    "from torchvision.models import list_models, get_model\n",
    "from torchvision.transforms import ToTensor\n",
    "from torch.utils.data import DataLoader\n",
    "from torch.optim import lr_scheduler\n",
    "import matplotlib.pyplot as plt\n",
    "import time\n",
    "import copy\n",
    "import os\n",
    "import zipfile\n",
    "import pandas as pd\n",
    "import numpy as np\n",
    "import random\n",
    "from tqdm import tqdm\n",
    "import pickle"
   ]
  },
  {
   "cell_type": "code",
   "execution_count": 2,
   "id": "a2e0e641-c71f-4b84-878c-1985ab6d5203",
   "metadata": {},
   "outputs": [],
   "source": [
    "with open('preds_formatted.pkl', 'rb') as f:  # Python 3: open(..., 'rb')\n",
    "    preds, losses, accuracies, model_names = pickle.load(f)"
   ]
  },
  {
   "cell_type": "code",
   "execution_count": 90,
   "id": "35fffc0d-a0c1-45e6-91d1-660c1bf04d9a",
   "metadata": {
    "tags": []
   },
   "outputs": [
    {
     "data": {
      "text/plain": [
       "(7, 156, 128, 40)"
      ]
     },
     "execution_count": 90,
     "metadata": {},
     "output_type": "execute_result"
    }
   ],
   "source": [
    "preds_shape = (len(preds), len(preds[0]), len(preds[0][0]), len(preds[0][0][0]))\n",
    "preds_shape\n",
    "# last batch does not have 128, it has 122"
   ]
  },
  {
   "cell_type": "code",
   "execution_count": 2,
   "id": "3a25da06-afb7-4ccd-acec-ebf29fc58318",
   "metadata": {
    "scrolled": true,
    "tags": []
   },
   "outputs": [],
   "source": [
    "def format_pred(pred):\n",
    "    pred = np.array(pred)\n",
    "    allBatches = []\n",
    "    for batch in pred:\n",
    "        for item in batch:\n",
    "            allBatches = allBatches + [*item]\n",
    "    return np.array(allBatches).reshape(-1, 40)\n",
    "\n",
    "# new_preds = [format_pred(pred) for pred in preds[:]]\n",
    "# new_preds.shape"
   ]
  },
  {
   "cell_type": "code",
   "execution_count": 3,
   "id": "83cdf7fd-ff05-45e8-8b96-74d788c43e6d",
   "metadata": {},
   "outputs": [
    {
     "ename": "NameError",
     "evalue": "name 'test_data' is not defined",
     "output_type": "error",
     "traceback": [
      "\u001b[1;31m-----------------------------------------------------------------------\u001b[0m",
      "\u001b[1;31mNameError\u001b[0m                             Traceback (most recent call last)",
      "Cell \u001b[1;32mIn[3], line 1\u001b[0m\n\u001b[1;32m----> 1\u001b[0m real_labels \u001b[38;5;241m=\u001b[39m [test_data[idx][\u001b[38;5;241m1\u001b[39m]\u001b[38;5;241m.\u001b[39mnumpy() \u001b[38;5;28;01mfor\u001b[39;00m idx \u001b[38;5;129;01min\u001b[39;00m \u001b[38;5;28mrange\u001b[39m(\u001b[38;5;28mlen\u001b[39m(\u001b[43mtest_data\u001b[49m))]\n\u001b[0;32m      2\u001b[0m real_labels \u001b[38;5;241m=\u001b[39m np\u001b[38;5;241m.\u001b[39marray(real_labels)\n",
      "\u001b[1;31mNameError\u001b[0m: name 'test_data' is not defined"
     ]
    }
   ],
   "source": [
    "# real_labels = [test_data[idx][1].numpy() for idx in range(len(test_data))]\n",
    "# real_labels = np.array(real_labels)"
   ]
  },
  {
   "cell_type": "code",
   "execution_count": 22,
   "id": "7e26f21b-93a9-408c-8ae0-a09f5b34ee66",
   "metadata": {},
   "outputs": [
    {
     "data": {
      "text/plain": [
       "(19962, 40)"
      ]
     },
     "execution_count": 22,
     "metadata": {},
     "output_type": "execute_result"
    }
   ],
   "source": [
    "# real_labels.shape"
   ]
  },
  {
   "cell_type": "code",
   "execution_count": 4,
   "id": "cdba945f-68a6-417c-8547-367272c535e7",
   "metadata": {
    "tags": []
   },
   "outputs": [],
   "source": [
    "with open('preds_flattened.pkl', 'rb') as f:  # Python 3: open(..., 'rb')\n",
    "    new_preds = pickle.load(f)[0]\n",
    "with open('labels_flattened.pkl', 'rb') as f:  # Python 3: open(..., 'rb')\n",
    "    real_labels = pickle.load(f)[0]"
   ]
  },
  {
   "cell_type": "code",
   "execution_count": 36,
   "id": "7ddc7cba-b31a-453f-afc6-d839b2d7bdff",
   "metadata": {},
   "outputs": [],
   "source": [
    "labels = ['5_o_Clock_Shadow','Arched_Eyebrows','Attractive','Bags_Under_Eyes','Bald','Bangs','Big_Lips','Big_Nose','Black_Hair',\n",
    "'Blond_Hair', 'Blurry','Brown_Hair','Bushy_Eyebrows','Chubby','Double_Chin','Eyeglasses','Goatee','Gray_Hair','Heavy_Makeup',\n",
    "'High_Cheekbones','Male','Mouth_Slightly_Open','Mustache','Narrow_Eyes','No_Beard','Oval_Face','Pale_Skin','Pointy_Nose',\n",
    "'Receding_Hairline','Rosy_Cheeks','Sideburns','Smiling','Straight_Hair','Wavy_Hair','Wearing_Earrings','Wearing_Hat',\n",
    "'Wearing_Lipstick','Wearing_Necklace','Wearing_Necktie','Young']\n",
    "labesl_n = [i for i in range(len(labels))]"
   ]
  },
  {
   "cell_type": "code",
   "execution_count": 5,
   "id": "72b37562-308d-4238-b021-2dcbb6d7a688",
   "metadata": {
    "tags": []
   },
   "outputs": [
    {
     "data": {
      "text/plain": [
       "(7, 19962, 40)"
      ]
     },
     "execution_count": 5,
     "metadata": {},
     "output_type": "execute_result"
    }
   ],
   "source": [
    "new_preds.shape"
   ]
  },
  {
   "cell_type": "code",
   "execution_count": 6,
   "id": "54bf962b-0c05-4ca6-8710-a5f964dd4a45",
   "metadata": {},
   "outputs": [
    {
     "data": {
      "text/plain": [
       "(19962, 40)"
      ]
     },
     "execution_count": 6,
     "metadata": {},
     "output_type": "execute_result"
    }
   ],
   "source": [
    "real_labels.shape"
   ]
  },
  {
   "cell_type": "code",
   "execution_count": 74,
   "id": "99a45ef9-9385-4656-9990-507c0bb32745",
   "metadata": {},
   "outputs": [
    {
     "data": {
      "text/plain": [
       "array([[0, 1, 0, ..., 0, 0, 0],\n",
       "       [0, 0, 0, ..., 0, 0, 1],\n",
       "       [0, 0, 1, ..., 0, 0, 1],\n",
       "       ...,\n",
       "       [0, 0, 0, ..., 0, 0, 1],\n",
       "       [0, 1, 1, ..., 0, 0, 1],\n",
       "       [0, 1, 1, ..., 0, 0, 1]], dtype=int64)"
      ]
     },
     "execution_count": 74,
     "metadata": {},
     "output_type": "execute_result"
    }
   ],
   "source": [
    "real_labels"
   ]
  },
  {
   "cell_type": "code",
   "execution_count": 7,
   "id": "8e43ac5e-9063-44d9-81a7-e21477c74de3",
   "metadata": {},
   "outputs": [
    {
     "data": {
      "text/plain": [
       "(7, 40)"
      ]
     },
     "execution_count": 7,
     "metadata": {},
     "output_type": "execute_result"
    }
   ],
   "source": [
    "new_preds[:, 0].shape"
   ]
  },
  {
   "cell_type": "code",
   "execution_count": 24,
   "id": "4b74b663-86ae-45f3-8f6f-135f54fc6396",
   "metadata": {},
   "outputs": [
    {
     "data": {
      "text/plain": [
       "0    10\n",
       "1     9\n",
       "2    11\n",
       "3    12\n",
       "4     7\n",
       "dtype: int64"
      ]
     },
     "execution_count": 24,
     "metadata": {},
     "output_type": "execute_result"
    }
   ],
   "source": [
    "real_df = pd.DataFrame(real_labels)\n",
    "total_labels = real_df.sum(axis=1)\n",
    "total_labels.head()"
   ]
  },
  {
   "cell_type": "code",
   "execution_count": 70,
   "id": "5ddd6a6e-4f97-432e-b037-e486378ede20",
   "metadata": {},
   "outputs": [
    {
     "data": {
      "text/html": [
       "<div>\n",
       "<style scoped>\n",
       "    .dataframe tbody tr th:only-of-type {\n",
       "        vertical-align: middle;\n",
       "    }\n",
       "\n",
       "    .dataframe tbody tr th {\n",
       "        vertical-align: top;\n",
       "    }\n",
       "\n",
       "    .dataframe thead th {\n",
       "        text-align: right;\n",
       "    }\n",
       "</style>\n",
       "<table border=\"1\" class=\"dataframe\">\n",
       "  <thead>\n",
       "    <tr style=\"text-align: right;\">\n",
       "      <th></th>\n",
       "      <th>0</th>\n",
       "      <th>1</th>\n",
       "      <th>2</th>\n",
       "      <th>3</th>\n",
       "      <th>4</th>\n",
       "      <th>5</th>\n",
       "      <th>6</th>\n",
       "      <th>7</th>\n",
       "      <th>8</th>\n",
       "      <th>9</th>\n",
       "      <th>...</th>\n",
       "      <th>30</th>\n",
       "      <th>31</th>\n",
       "      <th>32</th>\n",
       "      <th>33</th>\n",
       "      <th>34</th>\n",
       "      <th>35</th>\n",
       "      <th>36</th>\n",
       "      <th>37</th>\n",
       "      <th>38</th>\n",
       "      <th>39</th>\n",
       "    </tr>\n",
       "  </thead>\n",
       "  <tbody>\n",
       "    <tr>\n",
       "      <th>0</th>\n",
       "      <td>0</td>\n",
       "      <td>1</td>\n",
       "      <td>0</td>\n",
       "      <td>1</td>\n",
       "      <td>0</td>\n",
       "      <td>0</td>\n",
       "      <td>0</td>\n",
       "      <td>0</td>\n",
       "      <td>0</td>\n",
       "      <td>0</td>\n",
       "      <td>...</td>\n",
       "      <td>0</td>\n",
       "      <td>1</td>\n",
       "      <td>0</td>\n",
       "      <td>1</td>\n",
       "      <td>1</td>\n",
       "      <td>1</td>\n",
       "      <td>0</td>\n",
       "      <td>0</td>\n",
       "      <td>0</td>\n",
       "      <td>0</td>\n",
       "    </tr>\n",
       "    <tr>\n",
       "      <th>1</th>\n",
       "      <td>0</td>\n",
       "      <td>0</td>\n",
       "      <td>0</td>\n",
       "      <td>0</td>\n",
       "      <td>0</td>\n",
       "      <td>0</td>\n",
       "      <td>0</td>\n",
       "      <td>1</td>\n",
       "      <td>1</td>\n",
       "      <td>0</td>\n",
       "      <td>...</td>\n",
       "      <td>0</td>\n",
       "      <td>0</td>\n",
       "      <td>0</td>\n",
       "      <td>1</td>\n",
       "      <td>0</td>\n",
       "      <td>0</td>\n",
       "      <td>1</td>\n",
       "      <td>0</td>\n",
       "      <td>0</td>\n",
       "      <td>1</td>\n",
       "    </tr>\n",
       "    <tr>\n",
       "      <th>2</th>\n",
       "      <td>0</td>\n",
       "      <td>0</td>\n",
       "      <td>1</td>\n",
       "      <td>0</td>\n",
       "      <td>0</td>\n",
       "      <td>0</td>\n",
       "      <td>0</td>\n",
       "      <td>0</td>\n",
       "      <td>0</td>\n",
       "      <td>0</td>\n",
       "      <td>...</td>\n",
       "      <td>0</td>\n",
       "      <td>1</td>\n",
       "      <td>0</td>\n",
       "      <td>1</td>\n",
       "      <td>0</td>\n",
       "      <td>0</td>\n",
       "      <td>1</td>\n",
       "      <td>0</td>\n",
       "      <td>0</td>\n",
       "      <td>1</td>\n",
       "    </tr>\n",
       "    <tr>\n",
       "      <th>3</th>\n",
       "      <td>0</td>\n",
       "      <td>0</td>\n",
       "      <td>1</td>\n",
       "      <td>0</td>\n",
       "      <td>0</td>\n",
       "      <td>0</td>\n",
       "      <td>0</td>\n",
       "      <td>0</td>\n",
       "      <td>0</td>\n",
       "      <td>0</td>\n",
       "      <td>...</td>\n",
       "      <td>0</td>\n",
       "      <td>1</td>\n",
       "      <td>0</td>\n",
       "      <td>0</td>\n",
       "      <td>1</td>\n",
       "      <td>0</td>\n",
       "      <td>1</td>\n",
       "      <td>0</td>\n",
       "      <td>0</td>\n",
       "      <td>1</td>\n",
       "    </tr>\n",
       "    <tr>\n",
       "      <th>4</th>\n",
       "      <td>0</td>\n",
       "      <td>0</td>\n",
       "      <td>0</td>\n",
       "      <td>0</td>\n",
       "      <td>0</td>\n",
       "      <td>0</td>\n",
       "      <td>0</td>\n",
       "      <td>0</td>\n",
       "      <td>1</td>\n",
       "      <td>0</td>\n",
       "      <td>...</td>\n",
       "      <td>0</td>\n",
       "      <td>1</td>\n",
       "      <td>0</td>\n",
       "      <td>0</td>\n",
       "      <td>0</td>\n",
       "      <td>0</td>\n",
       "      <td>0</td>\n",
       "      <td>0</td>\n",
       "      <td>0</td>\n",
       "      <td>1</td>\n",
       "    </tr>\n",
       "  </tbody>\n",
       "</table>\n",
       "<p>5 rows × 40 columns</p>\n",
       "</div>"
      ],
      "text/plain": [
       "   0   1   2   3   4   5   6   7   8   9   ...  30  31  32  33  34  35  36  \\\n",
       "0   0   1   0   1   0   0   0   0   0   0  ...   0   1   0   1   1   1   0   \n",
       "1   0   0   0   0   0   0   0   1   1   0  ...   0   0   0   1   0   0   1   \n",
       "2   0   0   1   0   0   0   0   0   0   0  ...   0   1   0   1   0   0   1   \n",
       "3   0   0   1   0   0   0   0   0   0   0  ...   0   1   0   0   1   0   1   \n",
       "4   0   0   0   0   0   0   0   0   1   0  ...   0   1   0   0   0   0   0   \n",
       "\n",
       "   37  38  39  \n",
       "0   0   0   0  \n",
       "1   0   0   1  \n",
       "2   0   0   1  \n",
       "3   0   0   1  \n",
       "4   0   0   1  \n",
       "\n",
       "[5 rows x 40 columns]"
      ]
     },
     "execution_count": 70,
     "metadata": {},
     "output_type": "execute_result"
    }
   ],
   "source": [
    "real_df.head()"
   ]
  },
  {
   "cell_type": "code",
   "execution_count": 125,
   "id": "125e26d0-d70a-4f5a-aa0a-d8368197c20b",
   "metadata": {},
   "outputs": [
    {
     "data": {
      "text/plain": [
       "array([[0, 0, 0, ..., 0, 0, 0],\n",
       "       [0, 0, 0, ..., 0, 0, 1],\n",
       "       [0, 0, 1, ..., 0, 0, 1],\n",
       "       ...,\n",
       "       [0, 0, 0, ..., 0, 0, 1],\n",
       "       [0, 1, 1, ..., 0, 0, 1],\n",
       "       [0, 1, 1, ..., 0, 0, 1]])"
      ]
     },
     "execution_count": 125,
     "metadata": {},
     "output_type": "execute_result"
    }
   ],
   "source": [
    "new_preds[0].round().astype(int)"
   ]
  },
  {
   "cell_type": "code",
   "execution_count": 152,
   "id": "484410fb-f3e0-4418-94bd-cbe2fe5bce9e",
   "metadata": {},
   "outputs": [],
   "source": [
    "new_preds_dfs = [pd.DataFrame(preds) for preds in new_preds]\n",
    "new_preds_dfs = [df.assign(n_labels=lambda x: total_labels) for df in new_preds_dfs]\n",
    "new_preds_dfs = [df.assign(sorted_idxs=lambda x: df.apply(lambda x: np.argsort(x[:-1].values)[::-1], axis=1)) for df in new_preds_dfs]\n",
    "new_preds_dfs = [df.assign(sorted_values=lambda x: df.apply(lambda x: np.sort(x[:-2].values)[::-1], axis=1)) for df in new_preds_dfs]\n",
    "new_preds_dfs = [df.assign(preds=lambda x: df.apply(lambda x: x.loc[range(40)].values, axis=1)) for df in new_preds_dfs]\n",
    "new_preds_dfs = [df.reset_index() for df in new_preds_dfs]\n",
    "new_preds_dfs = [df.assign(rounded=lambda x: df.apply(lambda x: new_preds[i][x['index']].round().astype(int), axis=1)) for i, df in enumerate(new_preds_dfs)]\n",
    "new_preds_dfs = [df.assign(rounded_set=lambda x: df.apply(lambda x: [idx for idx, item in enumerate(x['rounded']) if item == 1], axis=1)) for i, df in enumerate(new_preds_dfs)]\n",
    "new_preds_dfs = [df.assign(real=lambda x: df.apply(lambda x: real_df.iloc[x['index'], :].values, axis=1)) for df in new_preds_dfs]\n",
    "new_preds_dfs = [df.drop(columns = range(40)) for df in new_preds_dfs]"
   ]
  },
  {
   "cell_type": "code",
   "execution_count": 156,
   "id": "81bce60f-730b-43b0-981a-708294581dd0",
   "metadata": {},
   "outputs": [],
   "source": [
    "import pyrankvote\n",
    "from pyrankvote import Candidate, Ballot"
   ]
  },
  {
   "cell_type": "code",
   "execution_count": 177,
   "id": "965e7761-4818-4c78-b566-a6917bd46f03",
   "metadata": {},
   "outputs": [],
   "source": [
    "candidates = [Candidate(str(l)) for l in labesl_n]"
   ]
  },
  {
   "cell_type": "code",
   "execution_count": 183,
   "id": "477560ce-47f8-445f-a0d8-0714538c60eb",
   "metadata": {},
   "outputs": [],
   "source": [
    "def createBallot(ballot_per_image):\n",
    "    return [Ballot([candidates[item] for item in pref]) for pref in ballot_per_image]\n",
    "\n",
    "ballots_per_image = [createBallot([model_preds.loc[i, 'sorted_idxs'] for model_preds in new_preds_dfs]) for i in range(len(real_labels))]"
   ]
  },
  {
   "cell_type": "code",
   "execution_count": null,
   "id": "cc0f88e1-ce8f-413f-a8b8-e1e6ddab38fd",
   "metadata": {},
   "outputs": [],
   "source": [
    "# get predictions of each model per image\n",
    "preds_per_image = [[model_preds.loc[i, 'preds'] for model_preds in new_preds_dfs] for i in range(len(real_labels))]\n",
    "preds_per_image_rounded = [[model_preds.loc[i, 'rounded'] for model_preds in new_preds_dfs] for i in range(len(real_labels))]"
   ]
  },
  {
   "cell_type": "code",
   "execution_count": 228,
   "id": "1eb40138-9660-4164-b3fa-88a43248df75",
   "metadata": {},
   "outputs": [],
   "source": [
    "def stv(ballots, seats=1):\n",
    "    election_result = pyrankvote.single_transferable_vote(\n",
    "        candidates, ballots, number_of_seats=seats\n",
    "    )\n",
    "    winners = election_result.get_winners()\n",
    "    return [int(winner.name) for winner in winners]"
   ]
  },
  {
   "cell_type": "code",
   "execution_count": 230,
   "id": "5412d9e5-557e-44ed-b393-6e1d677297c8",
   "metadata": {},
   "outputs": [
    {
     "data": {
      "text/plain": [
       "[24]"
      ]
     },
     "execution_count": 230,
     "metadata": {},
     "output_type": "execute_result"
    }
   ],
   "source": [
    "stv(ballots_per_image[0])"
   ]
  },
  {
   "cell_type": "code",
   "execution_count": null,
   "id": "9c6aae65-308a-433e-b43a-4f0bd5ca04e9",
   "metadata": {},
   "outputs": [],
   "source": [
    "results_df = pd.DataFrame(new_preds_dfs[0].real)"
   ]
  },
  {
   "cell_type": "code",
   "execution_count": 212,
   "id": "5376df84-683f-45b8-aae1-db341b545a39",
   "metadata": {},
   "outputs": [],
   "source": [
    "results_df['real_seats'] = results_df.apply(lambda x: [idx for idx, item in enumerate(x['real']) if item == 1], axis=1)\n",
    "results_df['n_labels'] = new_preds_dfs[0].n_labels\n",
    "results_df['preds'] = preds_per_image\n",
    "results_df['preds_rounded'] = preds_per_image_rounded\n",
    "results_df['ballots_stv'] = ballots_per_image\n",
    "results_df['soft_voting'] = results_df.apply(lambda x: np.mean(x.preds, axis=0).astype(float).round().astype(int), axis=1)\n",
    "results_df['hard_voting'] = results_df.apply(lambda x: [1 if i == True else 0 for i in np.sum(x.preds_rounded, axis=0)/len(x.preds_rounded)>=0.5], axis=1)"
   ]
  },
  {
   "cell_type": "code",
   "execution_count": null,
   "id": "d5e17779-bc00-4356-b500-86c3ca64cff3",
   "metadata": {},
   "outputs": [],
   "source": [
    "results_df['stv_variable_seats'] = results_df.apply(lambda x: stv(x.ballots_stv, x.n_labels) , axis=1)"
   ]
  },
  {
   "cell_type": "code",
   "execution_count": null,
   "id": "5bdd7f13-88e2-46a3-a40c-7eaffb57e4e9",
   "metadata": {},
   "outputs": [],
   "source": [
    "results_df.head()"
   ]
  },
  {
   "cell_type": "code",
   "execution_count": null,
   "id": "7f996146-3cbc-479d-a352-1cd36323a782",
   "metadata": {},
   "outputs": [],
   "source": [
    "with open('results.pkl', 'wb') as f:  # Python 3: open(..., 'wb')\n",
    "    pickle.dump(results_df, f)"
   ]
  },
  {
   "cell_type": "code",
   "execution_count": null,
   "id": "f0ae75f3-af3d-433a-84fd-d23cf3477605",
   "metadata": {},
   "outputs": [],
   "source": []
  }
 ],
 "metadata": {
  "kernelspec": {
   "display_name": "Python 3 (ipykernel)",
   "language": "python",
   "name": "python3"
  },
  "language_info": {
   "codemirror_mode": {
    "name": "ipython",
    "version": 3
   },
   "file_extension": ".py",
   "mimetype": "text/x-python",
   "name": "python",
   "nbconvert_exporter": "python",
   "pygments_lexer": "ipython3",
   "version": "3.10.10"
  }
 },
 "nbformat": 4,
 "nbformat_minor": 5
}
